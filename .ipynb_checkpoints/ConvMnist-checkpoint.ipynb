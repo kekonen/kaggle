{
 "cells": [
  {
   "cell_type": "code",
   "execution_count": 2,
   "metadata": {},
   "outputs": [],
   "source": [
    "import keras\n"
   ]
  },
  {
   "cell_type": "code",
   "execution_count": 47,
   "metadata": {},
   "outputs": [],
   "source": [
    "import numpy as np\n",
    "from keras.models import Sequential\n",
    "from keras.layers import Dense, Activation, Conv2D, MaxPooling2D, Flatten, Dropout\n",
    "from keras.optimizers import Adam"
   ]
  },
  {
   "cell_type": "code",
   "execution_count": 25,
   "metadata": {
    "scrolled": true
   },
   "outputs": [
    {
     "name": "stdout",
     "output_type": "stream",
     "text": [
      "(40000, 785) (2000, 785) (28000, 784)\n"
     ]
    }
   ],
   "source": [
    "data = np.genfromtxt('/root/sharedfolder/train.csv', delimiter=',')\n",
    "train, test = data[:40000, ...].astype(int), data[40000:, ...].astype(int)\n",
    "\n",
    "validate = np.genfromtxt('/root/sharedfolder/test.csv', delimiter=',').astype(int)\n",
    "\n",
    "print(train.shape, test.shape, validate.shape)"
   ]
  },
  {
   "cell_type": "code",
   "execution_count": 40,
   "metadata": {},
   "outputs": [
    {
     "name": "stdout",
     "output_type": "stream",
     "text": [
      "Train features: (40000, 784)\n",
      "Train labels:   (40000,)\n",
      "Test features:  (2000, 784)\n",
      "Test labels:    (2000,)\n"
     ]
    }
   ],
   "source": [
    "train_x, train_y = train[...,1:], train[...,:1].reshape((40000))\n",
    "test_x, test_y = test[...,1:], test[...,:1].reshape((2000))\n",
    "\n",
    "print('Train features:', train_x.shape)\n",
    "print('Train labels:  ', train_y.shape)\n",
    "print('Test features: ', test_x.shape)\n",
    "print('Test labels:   ', test_y.shape)"
   ]
  },
  {
   "cell_type": "code",
   "execution_count": 41,
   "metadata": {
    "scrolled": true
   },
   "outputs": [
    {
     "name": "stdout",
     "output_type": "stream",
     "text": [
      "Train labels:   (40000, 10)\n",
      "Test labels:    (2000, 10)\n"
     ]
    }
   ],
   "source": [
    "train_placeholer = np.zeros((train_y.size, train_y.max()+1))\n",
    "train_placeholer[np.arange(train_y.size),train_y] = 1\n",
    "train_y = train_placeholer\n",
    "\n",
    "test_placeholer = np.zeros((test_y.size, test_y.max()+1))\n",
    "test_placeholer[np.arange(test_y.size),test_y] = 1\n",
    "test_y = test_placeholer\n",
    "\n",
    "print('Train labels:  ', train_y.shape)\n",
    "print('Test labels:   ', test_y.shape)"
   ]
  },
  {
   "cell_type": "code",
   "execution_count": 45,
   "metadata": {},
   "outputs": [
    {
     "name": "stdout",
     "output_type": "stream",
     "text": [
      "Train features: (40000, 28, 28, 1)\n",
      "Test features:  (2000, 28, 28, 1)\n",
      "Validate features:  (2000, 28, 28, 1)\n"
     ]
    }
   ],
   "source": [
    "train_x = train_x.reshape((40000, 28, 28, 1))\n",
    "test_x = test_x.reshape((2000, 28, 28, 1))\n",
    "validate = validate.reshape((28000, 28, 28, 1))\n",
    "\n",
    "print('Train features:', train_x.shape)\n",
    "print('Test features: ', test_x.shape)\n",
    "print('Validate features: ', test_x.shape)"
   ]
  },
  {
   "cell_type": "markdown",
   "metadata": {},
   "source": [
    "Data done, now Model..."
   ]
  },
  {
   "cell_type": "code",
   "execution_count": 84,
   "metadata": {},
   "outputs": [],
   "source": [
    "model = Sequential()\n",
    "model.add(Conv2D(14, (3, 3), input_shape=(28, 28, 1)))\n",
    "model.add(Activation('relu'))\n",
    "model.add(MaxPooling2D(pool_size=(2, 2)))\n",
    "\n",
    "model.add(Conv2D(14, (3, 3)))\n",
    "model.add(Activation('relu'))\n",
    "model.add(MaxPooling2D(pool_size=(2, 2)))\n",
    "\n",
    "model.add(Flatten())\n",
    "model.add(Dense(15))\n",
    "model.add(Activation('relu'))\n",
    "model.add(Dropout(0.5))\n",
    "model.add(Dense(10))\n",
    "model.add(Activation('softmax'))"
   ]
  },
  {
   "cell_type": "code",
   "execution_count": 85,
   "metadata": {},
   "outputs": [],
   "source": [
    "model.compile(loss='categorical_crossentropy',\n",
    "              optimizer='adam',\n",
    "              metrics=['accuracy'])"
   ]
  },
  {
   "cell_type": "code",
   "execution_count": 86,
   "metadata": {},
   "outputs": [
    {
     "name": "stdout",
     "output_type": "stream",
     "text": [
      "Train on 40000 samples, validate on 2000 samples\n",
      "Epoch 1/50\n",
      "40000/40000 [==============================] - 13s 326us/step - loss: 2.2108 - acc: 0.2380 - val_loss: 1.4230 - val_acc: 0.4995\n",
      "Epoch 2/50\n",
      "40000/40000 [==============================] - 13s 317us/step - loss: 1.8387 - acc: 0.3058 - val_loss: 1.3566 - val_acc: 0.5115\n",
      "Epoch 3/50\n",
      "40000/40000 [==============================] - 13s 319us/step - loss: 1.6961 - acc: 0.3623 - val_loss: 0.9002 - val_acc: 0.6985\n",
      "Epoch 4/50\n",
      "40000/40000 [==============================] - 13s 320us/step - loss: 1.2290 - acc: 0.5328 - val_loss: 0.3619 - val_acc: 0.9260\n",
      "Epoch 5/50\n",
      "40000/40000 [==============================] - 13s 322us/step - loss: 0.9354 - acc: 0.6257 - val_loss: 0.1928 - val_acc: 0.9565\n",
      "Epoch 6/50\n",
      "40000/40000 [==============================] - 13s 321us/step - loss: 0.7443 - acc: 0.6979 - val_loss: 0.1681 - val_acc: 0.9625\n",
      "Epoch 7/50\n",
      "40000/40000 [==============================] - 13s 327us/step - loss: 0.6737 - acc: 0.7418 - val_loss: 0.1370 - val_acc: 0.9675\n",
      "Epoch 8/50\n",
      "40000/40000 [==============================] - 13s 321us/step - loss: 0.6198 - acc: 0.7667 - val_loss: 0.1029 - val_acc: 0.9705\n",
      "Epoch 9/50\n",
      "40000/40000 [==============================] - 13s 322us/step - loss: 0.5858 - acc: 0.7822 - val_loss: 0.1163 - val_acc: 0.9725\n",
      "Epoch 10/50\n",
      "40000/40000 [==============================] - 13s 325us/step - loss: 0.5523 - acc: 0.7964 - val_loss: 0.1117 - val_acc: 0.9735\n",
      "Epoch 11/50\n",
      "40000/40000 [==============================] - 13s 329us/step - loss: 0.5291 - acc: 0.8055 - val_loss: 0.1056 - val_acc: 0.9750\n",
      "Epoch 12/50\n",
      "40000/40000 [==============================] - 13s 335us/step - loss: 0.5094 - acc: 0.8115 - val_loss: 0.0783 - val_acc: 0.9765\n",
      "Epoch 13/50\n",
      "40000/40000 [==============================] - 13s 335us/step - loss: 0.4913 - acc: 0.8194 - val_loss: 0.1043 - val_acc: 0.9755\n",
      "Epoch 14/50\n",
      "40000/40000 [==============================] - 14s 340us/step - loss: 0.4836 - acc: 0.8205 - val_loss: 0.0901 - val_acc: 0.9745\n",
      "Epoch 15/50\n",
      "40000/40000 [==============================] - 13s 331us/step - loss: 0.4754 - acc: 0.8228 - val_loss: 0.0722 - val_acc: 0.9805\n",
      "Epoch 16/50\n",
      "40000/40000 [==============================] - 13s 337us/step - loss: 0.4665 - acc: 0.8238 - val_loss: 0.0973 - val_acc: 0.9745\n",
      "Epoch 17/50\n",
      "40000/40000 [==============================] - 14s 339us/step - loss: 0.4647 - acc: 0.8251 - val_loss: 0.0759 - val_acc: 0.9785\n",
      "Epoch 18/50\n",
      "40000/40000 [==============================] - 13s 327us/step - loss: 0.4585 - acc: 0.8259 - val_loss: 0.0751 - val_acc: 0.9805\n",
      "Epoch 19/50\n",
      "40000/40000 [==============================] - 13s 328us/step - loss: 0.4495 - acc: 0.8283 - val_loss: 0.0703 - val_acc: 0.9815\n",
      "Epoch 20/50\n",
      "40000/40000 [==============================] - 14s 342us/step - loss: 0.4338 - acc: 0.8360 - val_loss: 0.0712 - val_acc: 0.9810\n",
      "Epoch 21/50\n",
      "40000/40000 [==============================] - 13s 326us/step - loss: 0.4384 - acc: 0.8364 - val_loss: 0.0957 - val_acc: 0.9770\n",
      "Epoch 22/50\n",
      "40000/40000 [==============================] - 13s 323us/step - loss: 0.4288 - acc: 0.8376 - val_loss: 0.0941 - val_acc: 0.9775\n",
      "Epoch 23/50\n",
      "40000/40000 [==============================] - 13s 327us/step - loss: 0.4153 - acc: 0.8443 - val_loss: 0.0847 - val_acc: 0.9765\n",
      "Epoch 24/50\n",
      "40000/40000 [==============================] - 13s 325us/step - loss: 0.4115 - acc: 0.8460 - val_loss: 0.0879 - val_acc: 0.9795\n",
      "Epoch 25/50\n",
      "40000/40000 [==============================] - 14s 344us/step - loss: 0.4090 - acc: 0.8469 - val_loss: 0.0773 - val_acc: 0.9785\n",
      "Epoch 26/50\n",
      "40000/40000 [==============================] - 13s 337us/step - loss: 0.4036 - acc: 0.8496 - val_loss: 0.0848 - val_acc: 0.9805\n",
      "Epoch 27/50\n",
      "40000/40000 [==============================] - 14s 351us/step - loss: 0.3987 - acc: 0.8505 - val_loss: 0.0817 - val_acc: 0.9795\n",
      "Epoch 28/50\n",
      "40000/40000 [==============================] - 14s 359us/step - loss: 0.3994 - acc: 0.8512 - val_loss: 0.0822 - val_acc: 0.9830\n",
      "Epoch 29/50\n",
      "40000/40000 [==============================] - 15s 366us/step - loss: 0.3899 - acc: 0.8540 - val_loss: 0.0895 - val_acc: 0.9805\n",
      "Epoch 30/50\n",
      "40000/40000 [==============================] - 15s 363us/step - loss: 0.3834 - acc: 0.8547 - val_loss: 0.0721 - val_acc: 0.9840\n",
      "Epoch 31/50\n",
      "40000/40000 [==============================] - 13s 331us/step - loss: 0.3838 - acc: 0.8560 - val_loss: 0.0734 - val_acc: 0.9850\n",
      "Epoch 32/50\n",
      "40000/40000 [==============================] - 13s 328us/step - loss: 0.3874 - acc: 0.8544 - val_loss: 0.0723 - val_acc: 0.9830\n",
      "Epoch 33/50\n",
      "40000/40000 [==============================] - 13s 332us/step - loss: 0.3759 - acc: 0.8583 - val_loss: 0.0725 - val_acc: 0.9820\n",
      "Epoch 34/50\n",
      "40000/40000 [==============================] - 14s 352us/step - loss: 0.3834 - acc: 0.8579 - val_loss: 0.0933 - val_acc: 0.9780\n",
      "Epoch 35/50\n",
      "40000/40000 [==============================] - 14s 347us/step - loss: 0.3705 - acc: 0.8605 - val_loss: 0.0911 - val_acc: 0.9800\n",
      "Epoch 36/50\n",
      "40000/40000 [==============================] - 14s 359us/step - loss: 0.3760 - acc: 0.8577 - val_loss: 0.0846 - val_acc: 0.9805\n",
      "Epoch 37/50\n",
      "40000/40000 [==============================] - 14s 354us/step - loss: 0.3669 - acc: 0.8620 - val_loss: 0.0808 - val_acc: 0.9795\n",
      "Epoch 38/50\n",
      "40000/40000 [==============================] - 13s 331us/step - loss: 0.3676 - acc: 0.8620 - val_loss: 0.0938 - val_acc: 0.9770\n",
      "Epoch 39/50\n",
      "40000/40000 [==============================] - 13s 326us/step - loss: 0.3748 - acc: 0.8592 - val_loss: 0.0765 - val_acc: 0.9790\n",
      "Epoch 40/50\n",
      "40000/40000 [==============================] - 13s 330us/step - loss: 0.3610 - acc: 0.8646 - val_loss: 0.0905 - val_acc: 0.9810\n",
      "Epoch 41/50\n",
      "40000/40000 [==============================] - 14s 349us/step - loss: 0.3655 - acc: 0.8632 - val_loss: 0.0800 - val_acc: 0.9800\n",
      "Epoch 42/50\n",
      "40000/40000 [==============================] - 13s 330us/step - loss: 0.3644 - acc: 0.8660 - val_loss: 0.1038 - val_acc: 0.9800\n",
      "Epoch 43/50\n",
      "40000/40000 [==============================] - 13s 332us/step - loss: 0.3736 - acc: 0.8621 - val_loss: 0.1072 - val_acc: 0.9760\n",
      "Epoch 44/50\n",
      "40000/40000 [==============================] - 14s 344us/step - loss: 0.3634 - acc: 0.8655 - val_loss: 0.1283 - val_acc: 0.9780\n",
      "Epoch 45/50\n",
      "40000/40000 [==============================] - 14s 339us/step - loss: 0.3673 - acc: 0.8642 - val_loss: 0.0892 - val_acc: 0.9805\n",
      "Epoch 46/50\n",
      "40000/40000 [==============================] - 13s 335us/step - loss: 0.3602 - acc: 0.8672 - val_loss: 0.0855 - val_acc: 0.9805\n",
      "Epoch 47/50\n",
      "40000/40000 [==============================] - 13s 331us/step - loss: 0.3630 - acc: 0.8650 - val_loss: 0.0825 - val_acc: 0.9820\n",
      "Epoch 48/50\n",
      "40000/40000 [==============================] - 14s 341us/step - loss: 0.3626 - acc: 0.8663 - val_loss: 0.0939 - val_acc: 0.9795\n",
      "Epoch 49/50\n",
      "40000/40000 [==============================] - 14s 338us/step - loss: 0.3547 - acc: 0.8685 - val_loss: 0.0832 - val_acc: 0.9835\n",
      "Epoch 50/50\n",
      "40000/40000 [==============================] - 14s 342us/step - loss: 0.3483 - acc: 0.8724 - val_loss: 0.0900 - val_acc: 0.9800\n"
     ]
    },
    {
     "data": {
      "text/plain": [
       "<keras.callbacks.History at 0x7f7b06a77208>"
      ]
     },
     "execution_count": 86,
     "metadata": {},
     "output_type": "execute_result"
    }
   ],
   "source": [
    "model.fit(train_x, train_y,\n",
    "          batch_size=128,\n",
    "          epochs=50,\n",
    "          verbose=1,\n",
    "          validation_data=(test_x, test_y))\n",
    "\n",
    "# score = model.evaluate(x_test, y_test, verbose=0)"
   ]
  },
  {
   "cell_type": "code",
   "execution_count": 83,
   "metadata": {},
   "outputs": [
    {
     "name": "stdout",
     "output_type": "stream",
     "text": [
      "[[0 2]\n",
      " [1 0]\n",
      " [2 9]]\n"
     ]
    }
   ],
   "source": [
    "predictions_raw = model.predict(validate)\n",
    "predictions = np.argmax(predictions_raw, axis=1)\n",
    "indexes = np.arange(predictions.shape[0])\n",
    "# print(indexes[:3])\n",
    "\n",
    "stacked = np.stack((indexes, predictions), axis=1)\n",
    "\n",
    "print(stacked[:3])"
   ]
  },
  {
   "cell_type": "code",
   "execution_count": 81,
   "metadata": {},
   "outputs": [],
   "source": [
    "np.savetxt(\"toValidate.csv\", stacked.astype(int), delimiter=\",\")"
   ]
  },
  {
   "cell_type": "code",
   "execution_count": 82,
   "metadata": {},
   "outputs": [],
   "source": [
    "csv = ''\n",
    "for i,v in enumerate(stacked):\n",
    "    csv+=','.join([str(i),str(int(v[1]))]) + '\\n'\n",
    "\n",
    "with open('toValidate.csv', 'w') as f:\n",
    "    f.write(csv)\n"
   ]
  }
 ],
 "metadata": {
  "kernelspec": {
   "display_name": "Python 3",
   "language": "python",
   "name": "python3"
  },
  "language_info": {
   "codemirror_mode": {
    "name": "ipython",
    "version": 3
   },
   "file_extension": ".py",
   "mimetype": "text/x-python",
   "name": "python",
   "nbconvert_exporter": "python",
   "pygments_lexer": "ipython3",
   "version": "3.5.2"
  }
 },
 "nbformat": 4,
 "nbformat_minor": 2
}
